{
  "nbformat": 4,
  "nbformat_minor": 0,
  "metadata": {
    "colab": {
      "name": "TASK 18.ipynb",
      "provenance": [],
      "include_colab_link": true
    },
    "kernelspec": {
      "name": "python3",
      "display_name": "Python 3"
    },
    "language_info": {
      "name": "python"
    }
  },
  "cells": [
    {
      "cell_type": "markdown",
      "metadata": {
        "id": "view-in-github",
        "colab_type": "text"
      },
      "source": [
        "<a href=\"https://colab.research.google.com/github/AmalRam2002/Learn.py/blob/main/TASK_18.ipynb\" target=\"_parent\"><img src=\"https://colab.research.google.com/assets/colab-badge.svg\" alt=\"Open In Colab\"/></a>"
      ]
    },
    {
      "cell_type": "markdown",
      "metadata": {
        "id": "_JgXT8pEAjU4"
      },
      "source": [
        "1. \n",
        "Create a DataFrame by passing a random numpy array,with a datetie index and labelled columns.and,\n",
        "    - slice its first three rows and display.\n",
        "    - slice its odd indexed rows.\n",
        "    - display the dates from 1st postion to 4 th position."
      ]
    },
    {
      "cell_type": "code",
      "metadata": {
        "id": "5zFM5VOJBKBV",
        "outputId": "979ae47f-9997-45b7-f039-c3a455925cb2",
        "colab": {
          "base_uri": "https://localhost:8080/"
        }
      },
      "source": [
        "#please provide your answer below this line.\n",
        "import numpy as np\n",
        "import pandas as pd\n",
        "datetie = pd.date_range('2021-09-30', periods=8)\n",
        "ok = pd.DataFrame(np.random.randn(8,6), index=datetie, columns=list('ABCDEF'))\n",
        "print(\"First three rows:\\n\", ok.iloc[0:3])\n",
        "print(\"\\nOdd rows:\\n\", ok.iloc[1::2])\n",
        "print(\"\\n1st postion to 4 th postion:\\n\", ok.iloc[1:5])\n"
      ],
      "execution_count": 1,
      "outputs": [
        {
          "output_type": "stream",
          "name": "stdout",
          "text": [
            "First three rows:\n",
            "                    A         B         C         D         E         F\n",
            "2021-09-30 -0.638242  0.435694 -1.059950 -0.552557 -1.546335 -0.933943\n",
            "2021-10-01  1.059698  0.214067 -0.883835 -0.554552 -2.556092  1.217469\n",
            "2021-10-02 -0.816658  0.067449  0.229430  0.563217  1.945029 -0.735589\n",
            "\n",
            "Odd rows:\n",
            "                    A         B         C         D         E         F\n",
            "2021-10-01  1.059698  0.214067 -0.883835 -0.554552 -2.556092  1.217469\n",
            "2021-10-03  1.205648 -0.731293 -0.971514  0.904566 -0.155175 -0.058009\n",
            "2021-10-05  0.560954 -0.223710 -0.218463  1.486943 -0.696810 -2.018521\n",
            "2021-10-07 -1.628216  1.000759  0.653975 -1.025758 -0.879970  1.618892\n",
            "\n",
            "1st postion to 4 th postion:\n",
            "                    A         B         C         D         E         F\n",
            "2021-10-01  1.059698  0.214067 -0.883835 -0.554552 -2.556092  1.217469\n",
            "2021-10-02 -0.816658  0.067449  0.229430  0.563217  1.945029 -0.735589\n",
            "2021-10-03  1.205648 -0.731293 -0.971514  0.904566 -0.155175 -0.058009\n",
            "2021-10-04 -0.043172  1.951496  0.560646  0.122706  0.198974 -0.236938\n"
          ]
        }
      ]
    },
    {
      "cell_type": "markdown",
      "metadata": {
        "id": "QuoucvjxBPmX"
      },
      "source": [
        "2. Create a DataFrame by passing a random numpy array,with a datetie index and labelled columns.and\n",
        "  - Dislplay the index from the 1 to 3 date and the columns A and B of respective data.\n",
        "  - Display the datas at the 3rd index.\n",
        "  - Display datas from 2nd to 5th.\n",
        "  - Display the datas from the index 1,2,4 and the column 0 and 2."
      ]
    },
    {
      "cell_type": "code",
      "metadata": {
        "id": "qV_wzsp1DUKI",
        "outputId": "7826f42f-f98a-4f8d-bc84-717eb71a812c",
        "colab": {
          "base_uri": "https://localhost:8080/"
        }
      },
      "source": [
        "#please provide your answer below thins line.\n",
        "import numpy as np\n",
        "import pandas as pd\n",
        "datetie = pd.date_range('2021-09-30', periods=8)\n",
        "ok = pd.DataFrame(np.random.randn(8,6), index=datetie, columns=list('ABCDEF'))\n",
        "print(\"Index 1 to 3 date and the columns A and B:\\n\", ok.iloc[0:3,0:2])\n",
        "print(\"\\nDatas at the 3rd index:\\n\", ok.iloc[3:4])\n",
        "print(\"\\nDatas from 2nd to 5th:\\n\", ok.iloc[2:6])\n",
        "print(\"\\nDatas from the index 1,2,4 and the column 0 and 2:\\n\",ok.iloc[[1,2,4],[0,2]])\n"
      ],
      "execution_count": 3,
      "outputs": [
        {
          "output_type": "stream",
          "name": "stdout",
          "text": [
            "Index 1 to 3 date and the columns A and B:\n",
            "                    A         B\n",
            "2021-09-30 -1.059925 -1.552198\n",
            "2021-10-01  0.164607  0.116441\n",
            "2021-10-02 -0.978218 -0.539130\n",
            "\n",
            "Datas at the 3rd index:\n",
            "                    A         B         C         D         E         F\n",
            "2021-10-03 -1.360581  2.538349  1.455755 -0.605367 -0.414159  0.890186\n",
            "\n",
            "Datas from 2nd to 5th:\n",
            "                    A         B         C         D         E         F\n",
            "2021-10-02 -0.978218 -0.539130  0.332800 -2.122778 -0.748013  0.374395\n",
            "2021-10-03 -1.360581  2.538349  1.455755 -0.605367 -0.414159  0.890186\n",
            "2021-10-04  2.268561 -0.528764 -1.407966  0.048715  0.054213 -0.389252\n",
            "2021-10-05  1.419748 -1.275639  0.881985 -0.266171 -0.381491 -1.729922\n",
            "\n",
            "Datas from the index 1,2,4 and the column 0 and 2:\n",
            "                    A         C\n",
            "2021-10-01  0.164607 -1.189538\n",
            "2021-10-02 -0.978218  0.332800\n",
            "2021-10-04  2.268561 -1.407966\n"
          ]
        }
      ]
    }
  ]
}