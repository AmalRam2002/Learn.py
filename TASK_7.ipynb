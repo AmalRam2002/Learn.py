{
  "nbformat": 4,
  "nbformat_minor": 0,
  "metadata": {
    "colab": {
      "name": "TASK  7.ipynb",
      "provenance": [],
      "include_colab_link": true
    },
    "kernelspec": {
      "name": "python3",
      "display_name": "Python 3"
    },
    "language_info": {
      "name": "python"
    }
  },
  "cells": [
    {
      "cell_type": "markdown",
      "metadata": {
        "id": "view-in-github",
        "colab_type": "text"
      },
      "source": [
        "<a href=\"https://colab.research.google.com/github/AmalRam2002/Learn.py/blob/main/TASK_7.ipynb\" target=\"_parent\"><img src=\"https://colab.research.google.com/assets/colab-badge.svg\" alt=\"Open In Colab\"/></a>"
      ]
    },
    {
      "cell_type": "markdown",
      "metadata": {
        "id": "b0V3vwzcydKy"
      },
      "source": [
        "1. Write a program to check whether a  string is palindrome or not using functions. \n",
        "\n",
        "   ( A function is to be created to check whether the string is palindrome and it should give the output true or false to the main program)"
      ]
    },
    {
      "cell_type": "code",
      "metadata": {
        "id": "M2Mi7EOdyxiu",
        "outputId": "b5e98508-2913-45c3-a899-54ecbbd89395",
        "colab": {
          "base_uri": "https://localhost:8080/"
        }
      },
      "source": [
        "#please enter the code below this line.\n",
        "def Palindrome(i):\n",
        "    return i== i[::-1]\n",
        " \n",
        "i = input(\" Enter your string \")\n",
        "output = Palindrome(i)\n",
        " \n",
        "if output:\n",
        "    print(\"True\")\n",
        "else:\n",
        "    print(\"False\")\n"
      ],
      "execution_count": 12,
      "outputs": [
        {
          "output_type": "stream",
          "text": [
            " Enter your string malayalam\n",
            "True\n"
          ],
          "name": "stdout"
        }
      ]
    },
    {
      "cell_type": "markdown",
      "metadata": {
        "id": "vSiShTyOzEz-"
      },
      "source": [
        "2.  Write a menu driven program to find largest element in L, smallest element, avg of all values, sum of all values in L. All these operation should be performed in different functions and the result should be returned.\n",
        "\n",
        "\n",
        "      L=[23,24,11,90,1,41,9,99,28,56,72]"
      ]
    },
    {
      "cell_type": "code",
      "metadata": {
        "id": "fRtMIw_CzsmO",
        "outputId": "c1aec413-b572-4309-8b7c-1912cd93e2d5",
        "colab": {
          "base_uri": "https://localhost:8080/"
        }
      },
      "source": [
        "#please enter the code below this line.\n",
        "L=[23,24,11,90,1,41,9,99,28,56,72]\n",
        "T=0\n",
        "D=0\n",
        "S=L.sort()\n",
        "K=L[0]\n",
        "G=1\n",
        "M=L[len(L)-G]\n",
        "print(\"The largest element in L is \",M)\n",
        "print(\"The smallest element of L is \", K)\n",
        "\n",
        "for i in range(0,len(L)):\n",
        "  T=T+L[i]\n",
        "  A=T%len(L)\n",
        "print(\"The average of all values in L is \", A)\n",
        "print(\"The sum of all values of L is \",T)\n",
        "\n"
      ],
      "execution_count": 8,
      "outputs": [
        {
          "output_type": "stream",
          "text": [
            "The largest element in L is  99\n",
            "The smallest element of L is  1\n",
            "The average of all values in L is  3\n",
            "The sum of all values of L is  454\n"
          ],
          "name": "stdout"
        }
      ]
    }
  ]
}