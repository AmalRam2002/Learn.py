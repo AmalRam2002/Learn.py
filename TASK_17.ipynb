{
  "nbformat": 4,
  "nbformat_minor": 0,
  "metadata": {
    "colab": {
      "name": "TASK 17.ipynb",
      "provenance": [],
      "include_colab_link": true
    },
    "kernelspec": {
      "name": "python3",
      "display_name": "Python 3"
    },
    "language_info": {
      "name": "python"
    }
  },
  "cells": [
    {
      "cell_type": "markdown",
      "metadata": {
        "id": "view-in-github",
        "colab_type": "text"
      },
      "source": [
        "<a href=\"https://colab.research.google.com/github/AmalRam2002/Learn.py/blob/main/TASK_17.ipynb\" target=\"_parent\"><img src=\"https://colab.research.google.com/assets/colab-badge.svg\" alt=\"Open In Colab\"/></a>"
      ]
    },
    {
      "cell_type": "markdown",
      "metadata": {
        "id": "0SLapvpoaeYY"
      },
      "source": [
        "1. Create a DataFrame by passing a random numpy array,with a datetie index and labelled columns.and display its,\n",
        "     - Head\n",
        "     - Tail\n",
        "     - Index \n",
        "     - Columns\n",
        "     - Values\n",
        "     - statistics\n"
      ]
    },
    {
      "cell_type": "code",
      "metadata": {
        "id": "zJDkjyVxa5yU",
        "outputId": "f0c2acd8-47c0-4132-d95a-12c46b925447",
        "colab": {
          "base_uri": "https://localhost:8080/"
        }
      },
      "source": [
        "#please type your answer below this line.\n",
        "import numpy as np\n",
        "import pandas as pd\n",
        "datetie = pd.date_range('2021-09-30', periods=4)\n",
        "ok = pd.DataFrame(np.random.randn(4,4), index=datetie,columns=list('ABCD'))\n",
        "print(\"Head:\\n\",ok.head())\n",
        "print(\"\\nTail:\\n\", ok.tail())\n",
        "print(\"\\nIndex:\\n\", ok.index)\n",
        "print(\"\\nColumns:\\n\", ok.columns)\n",
        "print(\"\\nValues:\\n\", ok.values)\n",
        "print(\"\\nStatistics:\\n\", ok.describe(include='all'))"
      ],
      "execution_count": 4,
      "outputs": [
        {
          "output_type": "stream",
          "name": "stdout",
          "text": [
            "Head:\n",
            "                    A         B         C         D\n",
            "2021-09-30  0.443912 -0.735615  0.895901  0.135125\n",
            "2021-10-01 -0.700374 -0.481635 -0.877901 -0.852354\n",
            "2021-10-02  1.207964 -1.355177  0.600666  0.816203\n",
            "2021-10-03  1.836868 -0.671395  0.984855 -0.305782\n",
            "\n",
            "Tail:\n",
            "                    A         B         C         D\n",
            "2021-09-30  0.443912 -0.735615  0.895901  0.135125\n",
            "2021-10-01 -0.700374 -0.481635 -0.877901 -0.852354\n",
            "2021-10-02  1.207964 -1.355177  0.600666  0.816203\n",
            "2021-10-03  1.836868 -0.671395  0.984855 -0.305782\n",
            "\n",
            "Index:\n",
            " DatetimeIndex(['2021-09-30', '2021-10-01', '2021-10-02', '2021-10-03'], dtype='datetime64[ns]', freq='D')\n",
            "\n",
            "Columns:\n",
            " Index(['A', 'B', 'C', 'D'], dtype='object')\n",
            "\n",
            "Values:\n",
            " [[ 0.44391227 -0.7356152   0.89590075  0.13512531]\n",
            " [-0.7003744  -0.48163531 -0.87790114 -0.85235376]\n",
            " [ 1.20796374 -1.35517683  0.60066592  0.81620328]\n",
            " [ 1.83686823 -0.67139458  0.98485508 -0.30578163]]\n",
            "\n",
            "Statistics:\n",
            "               A         B         C         D\n",
            "count  4.000000  4.000000  4.000000  4.000000\n",
            "mean   0.697092 -0.810955  0.400880 -0.051702\n",
            "std    1.091954  0.378498  0.868191  0.705635\n",
            "min   -0.700374 -1.355177 -0.877901 -0.852354\n",
            "25%    0.157841 -0.890506  0.231024 -0.442425\n",
            "50%    0.825938 -0.703505  0.748283 -0.085328\n",
            "75%    1.365190 -0.623955  0.918139  0.305395\n",
            "max    1.836868 -0.481635  0.984855  0.816203\n"
          ]
        }
      ]
    },
    {
      "cell_type": "markdown",
      "metadata": {
        "id": "xnkA2mKDdyoO"
      },
      "source": [
        "2. Use the above table and,\n",
        "      - find transpose of your data.\n",
        "      - sort the index in the descending order of the date."
      ]
    },
    {
      "cell_type": "code",
      "metadata": {
        "id": "uqcQSEOufJ5P",
        "outputId": "684c8481-48cd-43d3-a8dd-c80cadfb8881",
        "colab": {
          "base_uri": "https://localhost:8080/"
        }
      },
      "source": [
        "#please provide your answer below this line.\n",
        "import numpy as np\n",
        "import pandas as pd\n",
        "datetie = pd.date_range('2021-09-30',periods=4)\n",
        "ok = pd.DataFrame(np.random.randn(4,4), index=datetie, columns=list('ABCD'))\n",
        "print(\"\\nTranspose\\n\", ok.transpose())\n",
        "print(\"\\nDescending Order\\n\", ok.sort_index(ascending=False))"
      ],
      "execution_count": 5,
      "outputs": [
        {
          "output_type": "stream",
          "name": "stdout",
          "text": [
            "\n",
            "Transpose\n",
            "    2021-09-30  2021-10-01  2021-10-02  2021-10-03\n",
            "A    0.923996    1.479620    0.236518   -1.606297\n",
            "B   -0.385120    0.697735    0.840020    0.549200\n",
            "C    0.164334    0.412312    3.172162   -1.274112\n",
            "D    0.974757    0.246376   -0.161112    0.420807\n",
            "\n",
            "Descending Order\n",
            "                    A         B         C         D\n",
            "2021-10-03 -1.606297  0.549200 -1.274112  0.420807\n",
            "2021-10-02  0.236518  0.840020  3.172162 -0.161112\n",
            "2021-10-01  1.479620  0.697735  0.412312  0.246376\n",
            "2021-09-30  0.923996 -0.385120  0.164334  0.974757\n"
          ]
        }
      ]
    },
    {
      "cell_type": "markdown",
      "metadata": {
        "id": "ss7s_8iDbAcL"
      },
      "source": [
        ""
      ]
    }
  ]
}