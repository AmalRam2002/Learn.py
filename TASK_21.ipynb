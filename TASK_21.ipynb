{
  "nbformat": 4,
  "nbformat_minor": 0,
  "metadata": {
    "colab": {
      "name": "TASK 21.ipynb",
      "provenance": [],
      "include_colab_link": true
    },
    "kernelspec": {
      "name": "python3",
      "display_name": "Python 3"
    },
    "language_info": {
      "name": "python"
    }
  },
  "cells": [
    {
      "cell_type": "markdown",
      "metadata": {
        "id": "view-in-github",
        "colab_type": "text"
      },
      "source": [
        "<a href=\"https://colab.research.google.com/github/AmalRam2002/Learn.py/blob/main/TASK_21.ipynb\" target=\"_parent\"><img src=\"https://colab.research.google.com/assets/colab-badge.svg\" alt=\"Open In Colab\"/></a>"
      ]
    },
    {
      "cell_type": "markdown",
      "metadata": {
        "id": "wK9sv7fHTnyo"
      },
      "source": [
        "1.  Using the dataset given below,\n",
        "  - Group the given dataset by A and find the sum of the groups.\n",
        "  - Find the 3 least elements from the column D\n",
        "  - Find the 3 largest elements from the Column D which belongs to the group\n",
        "  'bar'."
      ]
    },
    {
      "cell_type": "code",
      "metadata": {
        "id": "C_Kq4i_rVNyB",
        "outputId": "bc904f36-49c2-46af-ce95-d2169422b38d",
        "colab": {
          "base_uri": "https://localhost:8080/"
        }
      },
      "source": [
        "import pandas as pd\n",
        "import numpy as np\n",
        "df = pd.DataFrame({'A' : ['foo', 'bar', 'foo', 'bar',\n",
        "                          'foo', 'bar', 'foo', 'foo'],\n",
        "                   'B' : ['one', 'one', 'two', 'three',\n",
        "                          'two', 'two', 'one', 'three'],\n",
        "                   'C' : np.random.randn(8),\n",
        "                   'D' : np.random.randn(8)})\n",
        "df\n",
        "#please type your code below this line.\n",
        "group = df.groupby('A')\n",
        "print(\"sum of the groups:\\n\",group.sum())\n",
        "print(\"3 least elements from the column D:\\n\",df['D'].nsmallest(3))\n",
        "print(\"3 largest elements from the Column D which belongs to the group 'bar':\\n\",group['D'].get_group('bar').nlargest(3))"
      ],
      "execution_count": 1,
      "outputs": [
        {
          "output_type": "stream",
          "name": "stdout",
          "text": [
            "sum of the groups:\n",
            "             C         D\n",
            "A                      \n",
            "bar -2.047997 -1.044093\n",
            "foo  2.060836 -4.882914\n",
            "3 least elements from the column D:\n",
            " 0   -1.424726\n",
            "4   -1.353199\n",
            "6   -1.347757\n",
            "Name: D, dtype: float64\n",
            "3 largest elements from the Column D which belongs to the group 'bar':\n",
            " 3    0.176992\n",
            "1   -0.546960\n",
            "5   -0.674126\n",
            "Name: D, dtype: float64\n"
          ]
        }
      ]
    },
    {
      "cell_type": "markdown",
      "metadata": {
        "id": "68XLHGsrdHXb"
      },
      "source": [
        "2. Using the dataset given below,\n",
        "  - convert the dataset into a csv file.\n",
        "  - read the csv file just saved\n",
        "  - covert the dataset into a excel file.\n",
        "  - read the excel file just saved."
      ]
    },
    {
      "cell_type": "code",
      "metadata": {
        "id": "J4BOx3UZdVLV",
        "outputId": "d91423e7-f4da-477a-92a3-6ea752c3aebb",
        "colab": {
          "base_uri": "https://localhost:8080/"
        }
      },
      "source": [
        "import pandas as pd\n",
        "import numpy as np\n",
        "df = pd.DataFrame({'A' : ['foo', 'bar', 'foo', 'bar',\n",
        "                          'foo', 'bar', 'foo', 'foo'],\n",
        "                   'B' : ['one', 'one', 'two', 'three',\n",
        "                          'two', 'two', 'one', 'three'],\n",
        "                   'C' : np.random.randn(8),\n",
        "                   'D' : np.random.randn(8)})\n",
        "#please type your code below this line.\n",
        "print(df)\n",
        "df.to_csv('csvFile.csv')\n",
        "print(\"CSS FILE:\\n\", pd.read_csv('csvFile.csv'))\n",
        "df.to_excel('excelFile.xlsx')\n",
        "print(\"EXCEL FILE:\\n\",pd.read_excel('excelFile.xlsx'))"
      ],
      "execution_count": 2,
      "outputs": [
        {
          "output_type": "stream",
          "name": "stdout",
          "text": [
            "     A      B         C         D\n",
            "0  foo    one -1.073725  0.724585\n",
            "1  bar    one -0.799563 -1.942826\n",
            "2  foo    two  0.546266  1.033035\n",
            "3  bar  three -0.392216 -0.406454\n",
            "4  foo    two  0.431217  1.646182\n",
            "5  bar    two  0.303825 -0.301959\n",
            "6  foo    one -0.106707 -0.057943\n",
            "7  foo  three  1.485230  0.434308\n",
            "CSS FILE:\n",
            "    Unnamed: 0    A      B         C         D\n",
            "0           0  foo    one -1.073725  0.724585\n",
            "1           1  bar    one -0.799563 -1.942826\n",
            "2           2  foo    two  0.546266  1.033035\n",
            "3           3  bar  three -0.392216 -0.406454\n",
            "4           4  foo    two  0.431217  1.646182\n",
            "5           5  bar    two  0.303825 -0.301959\n",
            "6           6  foo    one -0.106707 -0.057943\n",
            "7           7  foo  three  1.485230  0.434308\n",
            "EXCEL FILE:\n",
            "    Unnamed: 0    A      B         C         D\n",
            "0           0  foo    one -1.073725  0.724585\n",
            "1           1  bar    one -0.799563 -1.942826\n",
            "2           2  foo    two  0.546266  1.033035\n",
            "3           3  bar  three -0.392216 -0.406454\n",
            "4           4  foo    two  0.431217  1.646182\n",
            "5           5  bar    two  0.303825 -0.301959\n",
            "6           6  foo    one -0.106707 -0.057943\n",
            "7           7  foo  three  1.485230  0.434308\n"
          ]
        }
      ]
    }
  ]
}