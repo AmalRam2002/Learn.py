{
  "nbformat": 4,
  "nbformat_minor": 0,
  "metadata": {
    "colab": {
      "name": "TASK 19.ipynb",
      "provenance": [],
      "include_colab_link": true
    },
    "kernelspec": {
      "name": "python3",
      "display_name": "Python 3"
    },
    "language_info": {
      "name": "python"
    }
  },
  "cells": [
    {
      "cell_type": "markdown",
      "metadata": {
        "id": "view-in-github",
        "colab_type": "text"
      },
      "source": [
        "<a href=\"https://colab.research.google.com/github/AmalRam2002/Learn.py/blob/main/TASK_19.ipynb\" target=\"_parent\"><img src=\"https://colab.research.google.com/assets/colab-badge.svg\" alt=\"Open In Colab\"/></a>"
      ]
    },
    {
      "cell_type": "markdown",
      "metadata": {
        "id": "6J-6GvX2JUcC"
      },
      "source": [
        "1. Create a DataFrame by passing a random numpy array,with a dateted index and labelled columns and display,\n",
        "  - where values of the column A is greater than 0.\n",
        "  - where values of the columns A is greater than 0 and B greater than -1.\n",
        "  - where values of the columns A  is greater than 0 or B greater than -1.\n"
      ]
    },
    {
      "cell_type": "code",
      "metadata": {
        "id": "xX-5VikpLcHL",
        "outputId": "b466daf6-c0a1-47b6-e298-264365fcc521",
        "colab": {
          "base_uri": "https://localhost:8080/"
        }
      },
      "source": [
        "#please type your code below this line.\n",
        "import numpy as np\n",
        "import pandas as pd\n",
        "datetie = pd.date_range('2021-09-30',periods=8)\n",
        "ok = pd.DataFrame(np.random.randn(8,6), index=datetie, columns=list('ABCDEF'))\n",
        "print(ok)\n",
        "print(\"\\nValues of the column A is greater than 0:\\n\",ok[ok['A']>0])\n",
        "print(\"\\nValues of the columns A is greater than 0 and B greater than -1:\\n\",ok[(ok['A']>0)&(ok['B']>-1)])\n",
        "print(\"\\nValues of the columns A is greater than 0 or B greater than -1:\\n\", ok[(ok['A']>0)|(ok['B']>-1)])\n"
      ],
      "execution_count": 1,
      "outputs": [
        {
          "output_type": "stream",
          "name": "stdout",
          "text": [
            "                   A         B         C         D         E         F\n",
            "2021-09-30  0.887313 -0.559141 -0.024167  1.373509  0.421345 -0.311155\n",
            "2021-10-01 -0.191240 -0.911095  1.435758 -0.349822  0.794163  0.571403\n",
            "2021-10-02  1.602713  0.117628 -1.251335  2.069069 -1.317865 -1.085916\n",
            "2021-10-03  0.504308  0.778549  0.804455 -0.527916  0.210652 -2.394564\n",
            "2021-10-04 -0.278214 -0.984857  0.752251 -1.881849 -0.204690  0.885108\n",
            "2021-10-05  0.275226  0.440620 -2.280028  2.636407 -1.840075 -0.728713\n",
            "2021-10-06  0.298804  1.447612  0.435799  1.980753  1.269824 -0.745071\n",
            "2021-10-07  0.124605 -0.283641 -1.900697 -1.864436 -1.306499  0.611843\n",
            "\n",
            "Values of the column A is greater than 0:\n",
            "                    A         B         C         D         E         F\n",
            "2021-09-30  0.887313 -0.559141 -0.024167  1.373509  0.421345 -0.311155\n",
            "2021-10-02  1.602713  0.117628 -1.251335  2.069069 -1.317865 -1.085916\n",
            "2021-10-03  0.504308  0.778549  0.804455 -0.527916  0.210652 -2.394564\n",
            "2021-10-05  0.275226  0.440620 -2.280028  2.636407 -1.840075 -0.728713\n",
            "2021-10-06  0.298804  1.447612  0.435799  1.980753  1.269824 -0.745071\n",
            "2021-10-07  0.124605 -0.283641 -1.900697 -1.864436 -1.306499  0.611843\n",
            "\n",
            "Values of the columns A is greater than 0 and B greater than -1:\n",
            "                    A         B         C         D         E         F\n",
            "2021-09-30  0.887313 -0.559141 -0.024167  1.373509  0.421345 -0.311155\n",
            "2021-10-02  1.602713  0.117628 -1.251335  2.069069 -1.317865 -1.085916\n",
            "2021-10-03  0.504308  0.778549  0.804455 -0.527916  0.210652 -2.394564\n",
            "2021-10-05  0.275226  0.440620 -2.280028  2.636407 -1.840075 -0.728713\n",
            "2021-10-06  0.298804  1.447612  0.435799  1.980753  1.269824 -0.745071\n",
            "2021-10-07  0.124605 -0.283641 -1.900697 -1.864436 -1.306499  0.611843\n",
            "\n",
            "Values of the columns A is greater than 0 or B greater than -1:\n",
            "                    A         B         C         D         E         F\n",
            "2021-09-30  0.887313 -0.559141 -0.024167  1.373509  0.421345 -0.311155\n",
            "2021-10-01 -0.191240 -0.911095  1.435758 -0.349822  0.794163  0.571403\n",
            "2021-10-02  1.602713  0.117628 -1.251335  2.069069 -1.317865 -1.085916\n",
            "2021-10-03  0.504308  0.778549  0.804455 -0.527916  0.210652 -2.394564\n",
            "2021-10-04 -0.278214 -0.984857  0.752251 -1.881849 -0.204690  0.885108\n",
            "2021-10-05  0.275226  0.440620 -2.280028  2.636407 -1.840075 -0.728713\n",
            "2021-10-06  0.298804  1.447612  0.435799  1.980753  1.269824 -0.745071\n",
            "2021-10-07  0.124605 -0.283641 -1.900697 -1.864436 -1.306499  0.611843\n"
          ]
        }
      ]
    },
    {
      "cell_type": "markdown",
      "metadata": {
        "id": "1WAf9SbwLp6o"
      },
      "source": [
        "2. Create a DataFrame by passing a random numpy array,with a dateted index and labelled columns and check if ,\n",
        "  - the values of the table are greater the zero or not.\n",
        "  - the value at the postion (0,0) is equal to NaN or not."
      ]
    },
    {
      "cell_type": "code",
      "metadata": {
        "id": "rBrt8pMeM2Q5",
        "outputId": "0733da29-68e6-43e1-e798-24bb4195c17c",
        "colab": {
          "base_uri": "https://localhost:8080/"
        }
      },
      "source": [
        "#please type your code below this line.\n",
        "import numpy as np\n",
        "import pandas as pd\n",
        "datetie = pd.date_range('2021-09-30', periods=8)\n",
        "ok = pd.DataFrame(np.random.randn(8,6), index=datetie, columns=list('ABCDEF'))\n",
        "print(ok)\n",
        "print(\"\\nValues greater the zero or not:\\n\",ok>0)\n",
        "print(\"\\nValue at the positon (0,0) is equal to NaN or not:\\n\",ok.iloc[[0],[0]] == 'NaN')\n",
        "\n"
      ],
      "execution_count": 2,
      "outputs": [
        {
          "output_type": "stream",
          "name": "stdout",
          "text": [
            "                   A         B         C         D         E         F\n",
            "2021-09-30 -1.084179  0.022858  0.134703 -0.667434 -0.514850  0.780360\n",
            "2021-10-01  0.009589  0.262798  0.936461 -1.210612 -1.979145 -1.715127\n",
            "2021-10-02 -0.340903  2.064448 -1.574471  0.163414 -0.201922  1.050761\n",
            "2021-10-03  0.600876  0.203400 -2.011018  1.613440  0.940670  0.666136\n",
            "2021-10-04 -1.454174 -1.095149  0.061867  1.928124  0.828111  1.098843\n",
            "2021-10-05  0.993550  0.633968  0.255277 -0.850918 -0.710260 -1.099191\n",
            "2021-10-06 -0.277671  0.043850  0.051140 -0.140707 -0.501554  0.430577\n",
            "2021-10-07  1.034902  1.536219  0.902448  2.612241  0.056651 -0.445532\n",
            "\n",
            "Values greater the zero or not:\n",
            "                 A      B      C      D      E      F\n",
            "2021-09-30  False   True   True  False  False   True\n",
            "2021-10-01   True   True   True  False  False  False\n",
            "2021-10-02  False   True  False   True  False   True\n",
            "2021-10-03   True   True  False   True   True   True\n",
            "2021-10-04  False  False   True   True   True   True\n",
            "2021-10-05   True   True   True  False  False  False\n",
            "2021-10-06  False   True   True  False  False   True\n",
            "2021-10-07   True   True   True   True   True  False\n",
            "\n",
            "Value at the positon (0,0) is equal to NaN or not:\n",
            "                 A\n",
            "2021-09-30  False\n"
          ]
        }
      ]
    },
    {
      "cell_type": "markdown",
      "metadata": {
        "id": "IfM9XYmiNaKB"
      },
      "source": [
        "3. Create a DataFrame by passing a random numpy array,with a dateted index and labelled columns and,\n",
        "  - reindex the index with even dates.\n",
        "  - create a column with values NaN.\n",
        "  - make the values of the first two index of the newly created column as 1"
      ]
    },
    {
      "cell_type": "code",
      "metadata": {
        "id": "F-w8kEfaORg3",
        "outputId": "cea711ae-d0be-482d-e0be-397b1ebef34e",
        "colab": {
          "base_uri": "https://localhost:8080/"
        }
      },
      "source": [
        "#please type your answer below this line.\n",
        "import numpy as np\n",
        "import pandas as pd \n",
        "datetie = pd.date_range('2021-09-30',periods=8)\n",
        "hmm = pd.DataFrame(np.random.randn(8,6), index=datetie, columns=list('ABCDEF'))\n",
        "print(hmm)\n",
        "ok = hmm.reindex(hmm.index[0::2])\n",
        "print(\"\\nIndex with even dates:\\n\",ok)\n",
        "ok['G'] = 'NaN'\n",
        "print(\"\\nNew column with values NaN:\\n\",ok)\n",
        "ok.loc[ok.index[:2],'G'] = 1\n",
        "print(\"\\nFirst two index of the newly created column as 1:\\n\", ok)\n"
      ],
      "execution_count": 5,
      "outputs": [
        {
          "output_type": "stream",
          "name": "stdout",
          "text": [
            "                   A         B         C         D         E         F\n",
            "2021-09-30 -0.395249  0.539483  0.073079 -0.941546  0.557046 -1.754057\n",
            "2021-10-01 -0.788885 -0.650244 -0.544508  0.465055  1.327088  0.211092\n",
            "2021-10-02 -0.294707 -0.581340 -0.807700 -0.141347  0.233615 -0.639074\n",
            "2021-10-03  0.219263 -1.186859 -0.854750 -0.335801  1.134273 -1.075376\n",
            "2021-10-04 -0.358434 -0.797044 -0.373439 -0.201342  0.236932  1.361916\n",
            "2021-10-05  0.855056 -0.741050  0.117095 -0.513499  0.900883 -0.405031\n",
            "2021-10-06 -0.906881 -0.329724  0.493130  0.687147  1.091374 -0.338415\n",
            "2021-10-07  0.273220  0.579911 -1.037939 -1.206094 -0.799208 -0.807659\n",
            "\n",
            "Index with even dates:\n",
            "                    A         B         C         D         E         F\n",
            "2021-09-30 -0.395249  0.539483  0.073079 -0.941546  0.557046 -1.754057\n",
            "2021-10-02 -0.294707 -0.581340 -0.807700 -0.141347  0.233615 -0.639074\n",
            "2021-10-04 -0.358434 -0.797044 -0.373439 -0.201342  0.236932  1.361916\n",
            "2021-10-06 -0.906881 -0.329724  0.493130  0.687147  1.091374 -0.338415\n",
            "\n",
            "New column with values NaN:\n",
            "                    A         B         C         D         E         F    G\n",
            "2021-09-30 -0.395249  0.539483  0.073079 -0.941546  0.557046 -1.754057  NaN\n",
            "2021-10-02 -0.294707 -0.581340 -0.807700 -0.141347  0.233615 -0.639074  NaN\n",
            "2021-10-04 -0.358434 -0.797044 -0.373439 -0.201342  0.236932  1.361916  NaN\n",
            "2021-10-06 -0.906881 -0.329724  0.493130  0.687147  1.091374 -0.338415  NaN\n",
            "\n",
            "First two index of the newly created column as 1:\n",
            "                    A         B         C         D         E         F    G\n",
            "2021-09-30 -0.395249  0.539483  0.073079 -0.941546  0.557046 -1.754057    1\n",
            "2021-10-02 -0.294707 -0.581340 -0.807700 -0.141347  0.233615 -0.639074    1\n",
            "2021-10-04 -0.358434 -0.797044 -0.373439 -0.201342  0.236932  1.361916  NaN\n",
            "2021-10-06 -0.906881 -0.329724  0.493130  0.687147  1.091374 -0.338415  NaN\n"
          ]
        }
      ]
    },
    {
      "cell_type": "code",
      "metadata": {
        "id": "IM9f8oAItsxn"
      },
      "source": [
        "\n"
      ],
      "execution_count": null,
      "outputs": []
    }
  ]
}