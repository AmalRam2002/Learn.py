{
  "nbformat": 4,
  "nbformat_minor": 0,
  "metadata": {
    "colab": {
      "name": "TASK 10.ipynb",
      "provenance": [],
      "include_colab_link": true
    },
    "kernelspec": {
      "name": "python3",
      "display_name": "Python 3"
    },
    "language_info": {
      "name": "python"
    }
  },
  "cells": [
    {
      "cell_type": "markdown",
      "metadata": {
        "id": "view-in-github",
        "colab_type": "text"
      },
      "source": [
        "<a href=\"https://colab.research.google.com/github/AmalRam2002/Learn.py/blob/main/TASK_10.ipynb\" target=\"_parent\"><img src=\"https://colab.research.google.com/assets/colab-badge.svg\" alt=\"Open In Colab\"/></a>"
      ]
    },
    {
      "cell_type": "markdown",
      "metadata": {
        "id": "VHKxwUewxOi2"
      },
      "source": [
        "1. Generate two  3 x 3 matrix and find it's dot product and take the transpose of the answer."
      ]
    },
    {
      "cell_type": "code",
      "metadata": {
        "id": "RdyKd1CAxZtR",
        "outputId": "1808853a-219c-4c3d-c4b9-8111e9c8a630",
        "colab": {
          "base_uri": "https://localhost:8080/"
        }
      },
      "source": [
        "#please provide your answer below this line.\n",
        "import numpy as np\n",
        "a =np.random.rand(3,3)\n",
        "b =np.random.rand(3,3)\n",
        "print(a)\n",
        "print(b)\n",
        "\n",
        "x =np.dot(a,b)\n",
        "print(x)\n",
        "x.transpose()\n"
      ],
      "execution_count": 1,
      "outputs": [
        {
          "output_type": "stream",
          "text": [
            "[[0.54590038 0.15060852 0.21395352]\n",
            " [0.53285831 0.41484845 0.15295927]\n",
            " [0.73467947 0.59107327 0.30101696]]\n",
            "[[0.16678035 0.2611341  0.68509445]\n",
            " [0.00945085 0.02886803 0.31501288]\n",
            " [0.40457552 0.30337808 0.3885552 ]]\n",
            "[[0.17902919 0.21180978 0.5045697 ]\n",
            " [0.15467454 0.19752782 0.555174  ]\n",
            " [0.24990034 0.30023493 0.80648222]]\n"
          ],
          "name": "stdout"
        },
        {
          "output_type": "execute_result",
          "data": {
            "text/plain": [
              "array([[0.17902919, 0.15467454, 0.24990034],\n",
              "       [0.21180978, 0.19752782, 0.30023493],\n",
              "       [0.5045697 , 0.555174  , 0.80648222]])"
            ]
          },
          "metadata": {
            "tags": []
          },
          "execution_count": 1
        }
      ]
    },
    {
      "cell_type": "markdown",
      "metadata": {
        "id": "9c9ZwiBxxf4t"
      },
      "source": [
        "2. Create a 3x3 matrix with elements [55,25,15], [30,44,2], [11,45,77] . Now find the determinant of the given matrix."
      ]
    },
    {
      "cell_type": "code",
      "metadata": {
        "id": "Anmr3C9KyNyy",
        "outputId": "e640fbc6-8efc-4e1c-f181-eea1f5f124a0",
        "colab": {
          "base_uri": "https://localhost:8080/"
        }
      },
      "source": [
        "#please provide your answer below this line.\n",
        "import numpy as np\n",
        "a =[[55,25,15],[30,44,2],[11,45,77]]\n",
        "b =np.array(a)\n",
        "print(b)\n",
        "np.linalg.det(b)\n"
      ],
      "execution_count": 3,
      "outputs": [
        {
          "output_type": "stream",
          "text": [
            "[[55 25 15]\n",
            " [30 44  2]\n",
            " [11 45 77]]\n"
          ],
          "name": "stdout"
        },
        {
          "output_type": "execute_result",
          "data": {
            "text/plain": [
              "137180.0000000001"
            ]
          },
          "metadata": {
            "tags": []
          },
          "execution_count": 3
        }
      ]
    }
  ]
}